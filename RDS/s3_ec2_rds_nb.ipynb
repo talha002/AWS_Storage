{
 "cells": [
  {
   "cell_type": "code",
   "execution_count": 18,
   "id": "e11f43a6-431f-4aad-b16d-433695ed8ca9",
   "metadata": {},
   "outputs": [],
   "source": [
    "import pandas as pd\n",
    "import boto3\n",
    "import re\n",
    "import io\n",
    "import sqlalchemy"
   ]
  },
  {
   "cell_type": "code",
   "execution_count": 4,
   "id": "a2b4f82b-7f81-4e33-9056-4a34c66f278b",
   "metadata": {},
   "outputs": [],
   "source": [
    "s3_client = boto3.client('s3')"
   ]
  },
  {
   "cell_type": "code",
   "execution_count": 5,
   "id": "2304da3b-f945-4827-8731-da4f818673a6",
   "metadata": {},
   "outputs": [],
   "source": [
    "obj = s3_client.get_object(Bucket=<your-bucket>, Key=<path-to-csv-within-bucket>)"
   ]
  },
  {
   "cell_type": "code",
   "execution_count": 6,
   "id": "7550c503-b5bb-48a5-b329-092a42481c41",
   "metadata": {},
   "outputs": [],
   "source": [
    "df = pd.read_csv(obj['Body'])"
   ]
  },
  {
   "cell_type": "code",
   "execution_count": 7,
   "id": "01a1f4c7-871f-4eb3-87a7-f7a5968a913a",
   "metadata": {},
   "outputs": [
    {
     "data": {
      "text/html": [
       "<div>\n",
       "<style scoped>\n",
       "    .dataframe tbody tr th:only-of-type {\n",
       "        vertical-align: middle;\n",
       "    }\n",
       "\n",
       "    .dataframe tbody tr th {\n",
       "        vertical-align: top;\n",
       "    }\n",
       "\n",
       "    .dataframe thead th {\n",
       "        text-align: right;\n",
       "    }\n",
       "</style>\n",
       "<table border=\"1\" class=\"dataframe\">\n",
       "  <thead>\n",
       "    <tr style=\"text-align: right;\">\n",
       "      <th></th>\n",
       "      <th>STORE_ID</th>\n",
       "      <th>STORE_LOCATION</th>\n",
       "      <th>PRODUCT_CATEGORY</th>\n",
       "      <th>PRODUCT_ID</th>\n",
       "      <th>MRP</th>\n",
       "      <th>CP</th>\n",
       "      <th>DISCOUNT</th>\n",
       "      <th>SP</th>\n",
       "      <th>Date</th>\n",
       "    </tr>\n",
       "  </thead>\n",
       "  <tbody>\n",
       "    <tr>\n",
       "      <th>0</th>\n",
       "      <td>YR7220</td>\n",
       "      <td>New York(</td>\n",
       "      <td>Electronics</td>\n",
       "      <td>12254943</td>\n",
       "      <td>$31</td>\n",
       "      <td>$20.77</td>\n",
       "      <td>$1.86</td>\n",
       "      <td>$29.14</td>\n",
       "      <td>2019-11-26</td>\n",
       "    </tr>\n",
       "    <tr>\n",
       "      <th>1</th>\n",
       "      <td>YR7220</td>\n",
       "      <td>New York+</td>\n",
       "      <td>Furniture</td>\n",
       "      <td>72619323C</td>\n",
       "      <td>$15</td>\n",
       "      <td>$9.75</td>\n",
       "      <td>$1.5</td>\n",
       "      <td>$13.5</td>\n",
       "      <td>2019-11-26</td>\n",
       "    </tr>\n",
       "    <tr>\n",
       "      <th>2</th>\n",
       "      <td>YR7220</td>\n",
       "      <td>New York</td>\n",
       "      <td>Electronics</td>\n",
       "      <td>34161682B</td>\n",
       "      <td>$88</td>\n",
       "      <td>$62.48</td>\n",
       "      <td>$4.4</td>\n",
       "      <td>$83.6</td>\n",
       "      <td>2019-11-26</td>\n",
       "    </tr>\n",
       "    <tr>\n",
       "      <th>3</th>\n",
       "      <td>YR7220</td>\n",
       "      <td>New York!</td>\n",
       "      <td>Kitchen</td>\n",
       "      <td>79411621</td>\n",
       "      <td>$91</td>\n",
       "      <td>$58.24</td>\n",
       "      <td>$3.64</td>\n",
       "      <td>$87.36</td>\n",
       "      <td>2019-11-26</td>\n",
       "    </tr>\n",
       "    <tr>\n",
       "      <th>4</th>\n",
       "      <td>YR7220</td>\n",
       "      <td>New York</td>\n",
       "      <td>Fashion</td>\n",
       "      <td>39520263T</td>\n",
       "      <td>$85</td>\n",
       "      <td>$51</td>\n",
       "      <td>$2.55</td>\n",
       "      <td>$82.45</td>\n",
       "      <td>2019-11-26</td>\n",
       "    </tr>\n",
       "  </tbody>\n",
       "</table>\n",
       "</div>"
      ],
      "text/plain": [
       "  STORE_ID STORE_LOCATION PRODUCT_CATEGORY PRODUCT_ID  MRP      CP DISCOUNT  \\\n",
       "0   YR7220      New York(      Electronics   12254943  $31  $20.77    $1.86   \n",
       "1   YR7220      New York+        Furniture  72619323C  $15   $9.75     $1.5   \n",
       "2   YR7220      New York       Electronics  34161682B  $88  $62.48     $4.4   \n",
       "3   YR7220      New York!          Kitchen   79411621  $91  $58.24    $3.64   \n",
       "4   YR7220       New York          Fashion  39520263T  $85     $51    $2.55   \n",
       "\n",
       "       SP        Date  \n",
       "0  $29.14  2019-11-26  \n",
       "1   $13.5  2019-11-26  \n",
       "2   $83.6  2019-11-26  \n",
       "3  $87.36  2019-11-26  \n",
       "4  $82.45  2019-11-26  "
      ]
     },
     "execution_count": 7,
     "metadata": {},
     "output_type": "execute_result"
    }
   ],
   "source": [
    "df.head()"
   ]
  },
  {
   "cell_type": "code",
   "execution_count": 8,
   "id": "f65275da-2253-4505-9c9b-20a112e82a09",
   "metadata": {},
   "outputs": [],
   "source": [
    "def clean_store_location(st_loc):\n",
    "        return re.sub(r'[^\\w\\s]', '', st_loc).strip()"
   ]
  },
  {
   "cell_type": "code",
   "execution_count": 9,
   "id": "c7bbb754-3696-47be-a15e-9b2fc0ab05c7",
   "metadata": {},
   "outputs": [],
   "source": [
    "df['STORE_LOCATION'] = df['STORE_LOCATION'].map(lambda x: clean_store_location(x))"
   ]
  },
  {
   "cell_type": "code",
   "execution_count": 10,
   "id": "eb96d3d7-a3b9-41f2-b1a9-a65d4e832c0b",
   "metadata": {},
   "outputs": [],
   "source": [
    "def clean_product_id(pd_id):\n",
    "        matches = re.findall(r'\\d+', pd_id)\n",
    "        if matches:\n",
    "            return matches[0]\n",
    "        return pd_id"
   ]
  },
  {
   "cell_type": "code",
   "execution_count": 11,
   "id": "2684a0e4-fbc9-4727-9d22-895c07c5fd5c",
   "metadata": {},
   "outputs": [],
   "source": [
    "df['PRODUCT_ID'] = df['PRODUCT_ID'].map(lambda x: clean_product_id(x))"
   ]
  },
  {
   "cell_type": "code",
   "execution_count": 12,
   "id": "0a0caee9-c875-470c-9b00-e52800f9ea33",
   "metadata": {},
   "outputs": [],
   "source": [
    "def remove_dollar(amount):\n",
    "    return float(amount.replace('$', ''))"
   ]
  },
  {
   "cell_type": "code",
   "execution_count": 13,
   "id": "3bd09554-3311-43ec-9f7c-09c77cde0498",
   "metadata": {},
   "outputs": [],
   "source": [
    "for to_clean in ['MRP', 'CP', 'DISCOUNT', 'SP']:\n",
    "        df[to_clean] = df[to_clean].map(lambda x: remove_dollar(x))"
   ]
  },
  {
   "cell_type": "code",
   "execution_count": 14,
   "id": "8ea02955-1b8b-4b66-928e-91473d0a1d81",
   "metadata": {},
   "outputs": [
    {
     "data": {
      "text/html": [
       "<div>\n",
       "<style scoped>\n",
       "    .dataframe tbody tr th:only-of-type {\n",
       "        vertical-align: middle;\n",
       "    }\n",
       "\n",
       "    .dataframe tbody tr th {\n",
       "        vertical-align: top;\n",
       "    }\n",
       "\n",
       "    .dataframe thead th {\n",
       "        text-align: right;\n",
       "    }\n",
       "</style>\n",
       "<table border=\"1\" class=\"dataframe\">\n",
       "  <thead>\n",
       "    <tr style=\"text-align: right;\">\n",
       "      <th></th>\n",
       "      <th>STORE_ID</th>\n",
       "      <th>STORE_LOCATION</th>\n",
       "      <th>PRODUCT_CATEGORY</th>\n",
       "      <th>PRODUCT_ID</th>\n",
       "      <th>MRP</th>\n",
       "      <th>CP</th>\n",
       "      <th>DISCOUNT</th>\n",
       "      <th>SP</th>\n",
       "      <th>Date</th>\n",
       "    </tr>\n",
       "  </thead>\n",
       "  <tbody>\n",
       "    <tr>\n",
       "      <th>0</th>\n",
       "      <td>YR7220</td>\n",
       "      <td>New York</td>\n",
       "      <td>Electronics</td>\n",
       "      <td>12254943</td>\n",
       "      <td>31.0</td>\n",
       "      <td>20.77</td>\n",
       "      <td>1.86</td>\n",
       "      <td>29.14</td>\n",
       "      <td>2019-11-26</td>\n",
       "    </tr>\n",
       "    <tr>\n",
       "      <th>1</th>\n",
       "      <td>YR7220</td>\n",
       "      <td>New York</td>\n",
       "      <td>Furniture</td>\n",
       "      <td>72619323</td>\n",
       "      <td>15.0</td>\n",
       "      <td>9.75</td>\n",
       "      <td>1.50</td>\n",
       "      <td>13.50</td>\n",
       "      <td>2019-11-26</td>\n",
       "    </tr>\n",
       "    <tr>\n",
       "      <th>2</th>\n",
       "      <td>YR7220</td>\n",
       "      <td>New York</td>\n",
       "      <td>Electronics</td>\n",
       "      <td>34161682</td>\n",
       "      <td>88.0</td>\n",
       "      <td>62.48</td>\n",
       "      <td>4.40</td>\n",
       "      <td>83.60</td>\n",
       "      <td>2019-11-26</td>\n",
       "    </tr>\n",
       "    <tr>\n",
       "      <th>3</th>\n",
       "      <td>YR7220</td>\n",
       "      <td>New York</td>\n",
       "      <td>Kitchen</td>\n",
       "      <td>79411621</td>\n",
       "      <td>91.0</td>\n",
       "      <td>58.24</td>\n",
       "      <td>3.64</td>\n",
       "      <td>87.36</td>\n",
       "      <td>2019-11-26</td>\n",
       "    </tr>\n",
       "    <tr>\n",
       "      <th>4</th>\n",
       "      <td>YR7220</td>\n",
       "      <td>New York</td>\n",
       "      <td>Fashion</td>\n",
       "      <td>39520263</td>\n",
       "      <td>85.0</td>\n",
       "      <td>51.00</td>\n",
       "      <td>2.55</td>\n",
       "      <td>82.45</td>\n",
       "      <td>2019-11-26</td>\n",
       "    </tr>\n",
       "  </tbody>\n",
       "</table>\n",
       "</div>"
      ],
      "text/plain": [
       "  STORE_ID STORE_LOCATION PRODUCT_CATEGORY PRODUCT_ID   MRP     CP  DISCOUNT  \\\n",
       "0   YR7220       New York      Electronics   12254943  31.0  20.77      1.86   \n",
       "1   YR7220       New York        Furniture   72619323  15.0   9.75      1.50   \n",
       "2   YR7220       New York      Electronics   34161682  88.0  62.48      4.40   \n",
       "3   YR7220       New York          Kitchen   79411621  91.0  58.24      3.64   \n",
       "4   YR7220       New York          Fashion   39520263  85.0  51.00      2.55   \n",
       "\n",
       "      SP        Date  \n",
       "0  29.14  2019-11-26  \n",
       "1  13.50  2019-11-26  \n",
       "2  83.60  2019-11-26  \n",
       "3  87.36  2019-11-26  \n",
       "4  82.45  2019-11-26  "
      ]
     },
     "execution_count": 14,
     "metadata": {},
     "output_type": "execute_result"
    }
   ],
   "source": [
    "df.head()"
   ]
  },
  {
   "cell_type": "code",
   "execution_count": 15,
   "id": "d8720aea-4504-47ea-987e-10b20ea019cf",
   "metadata": {},
   "outputs": [
    {
     "name": "stdout",
     "output_type": "stream",
     "text": [
      "<class 'pandas.core.frame.DataFrame'>\n",
      "RangeIndex: 37853 entries, 0 to 37852\n",
      "Data columns (total 9 columns):\n",
      " #   Column            Non-Null Count  Dtype  \n",
      "---  ------            --------------  -----  \n",
      " 0   STORE_ID          37853 non-null  object \n",
      " 1   STORE_LOCATION    37853 non-null  object \n",
      " 2   PRODUCT_CATEGORY  37853 non-null  object \n",
      " 3   PRODUCT_ID        37853 non-null  object \n",
      " 4   MRP               37853 non-null  float64\n",
      " 5   CP                37853 non-null  float64\n",
      " 6   DISCOUNT          37853 non-null  float64\n",
      " 7   SP                37853 non-null  float64\n",
      " 8   Date              37853 non-null  object \n",
      "dtypes: float64(4), object(5)\n",
      "memory usage: 2.6+ MB\n"
     ]
    }
   ],
   "source": [
    "df.info()"
   ]
  },
  {
   "cell_type": "code",
   "execution_count": 16,
   "id": "83555cbb-8e77-44c0-b1e6-6068afaaa37d",
   "metadata": {},
   "outputs": [],
   "source": [
    "from sqlalchemy.types import *"
   ]
  },
  {
   "cell_type": "code",
   "execution_count": 25,
   "id": "006589bf-6072-4c2a-8999-236c90174b8c",
   "metadata": {},
   "outputs": [],
   "source": [
    "\n",
    "df_schema = {\n",
    "  \"STORE_ID\": String(64),\n",
    "   \"STORE_LOCATION\": String(64),\n",
    "  \"PRODUCT_CATEGORY\": String(64),\n",
    "    \"PRODUCT_ID\": Integer,\n",
    "    \"MRP\": Float,\n",
    "    \"CP\": Float,\n",
    "    \"DISCOUNT\": Float,\n",
    "    \"SP\": Float,\n",
    "    \"Date\": Date\n",
    "}"
   ]
  },
  {
   "cell_type": "code",
   "execution_count": 26,
   "id": "2a05c619-26a9-4d27-bfd0-c22ad64e4611",
   "metadata": {},
   "outputs": [],
   "source": [
    "engine = sqlalchemy.create_engine(\"mysql+pymysql://admin:s3-ec2-rds@<rds_endpoint>:3306/rds-practice")"
   ]
  },
  {
   "cell_type": "code",
   "execution_count": 27,
   "id": "a97f0e71-23a5-42f3-a9b9-bd36db9fcf76",
   "metadata": {},
   "outputs": [
    {
     "data": {
      "text/plain": [
       "37853"
      ]
     },
     "execution_count": 27,
     "metadata": {},
     "output_type": "execute_result"
    }
   ],
   "source": [
    "df.to_sql('clean_transaction', engine, index=False, if_exists='replace', dtype=df_schema)"
   ]
  },
  {
   "cell_type": "code",
   "execution_count": null,
   "id": "0a6f3b22-7dbe-460c-a0f9-5adc64ecf6f6",
   "metadata": {},
   "outputs": [],
   "source": []
  }
 ],
 "metadata": {
  "kernelspec": {
   "display_name": "Python 3 (ipykernel)",
   "language": "python",
   "name": "python3"
  },
  "language_info": {
   "codemirror_mode": {
    "name": "ipython",
    "version": 3
   },
   "file_extension": ".py",
   "mimetype": "text/x-python",
   "name": "python",
   "nbconvert_exporter": "python",
   "pygments_lexer": "ipython3",
   "version": "3.9.16"
  }
 },
 "nbformat": 4,
 "nbformat_minor": 5
}
